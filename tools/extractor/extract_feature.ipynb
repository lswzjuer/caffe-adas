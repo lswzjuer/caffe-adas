{
 "cells": [
  {
   "cell_type": "code",
   "execution_count": 1,
   "metadata": {
    "collapsed": true
   },
   "outputs": [],
   "source": [
    "# -*- coding: utf-8 -*-\n",
    "import numpy as np\n",
    "import sys,os\n",
    "import cv2\n",
    "import caffe\n",
    "net_file = '/home/zhongxuexian/ADAS_caffe/fabu/models/lane_od/400_640_ti/lane_od_deploy.prototxt'\n",
    "caffe_model = '/home/zhongxuexian/ADAS_caffe/fabu/models/lane_od/400_640_ti/lane_od.caffemodel'\n",
    "test_dir = '/home/zhongxuexian/20180814.avi'\n",
    "\n",
    "if not os.path.exists (caffe_model):\n",
    "    print \"caffemodel does not exist\"\n",
    "    exit()\n",
    "\n",
    "net = caffe.Net(net_file, caffe_model, caffe.TEST)\n",
    "feature_file=open('fea_map0814_demo.txt','w')\n",
    "cap = cv2.VideoCapture(test_dir)\n",
    "arr=[1,2,5,7,9,10,22]\n",
    "ret,frame=cap.read()\n",
    "cnt=0\n",
    "while ret==True:\n",
    "    img = frame\n",
    "    mean = (128, 128, 128)\n",
    "    img = (img - mean)\n",
    "    img = img.astype(np.float32)\n",
    "    img = img.transpose((2,0,1))\n",
    "    \n",
    "    net.blobs['data'].data[...] = img[:,80:480,:]\n",
    "    out = net.forward()\n",
    "    feat_name = 'conv1a'\n",
    "    feat_data = net.blobs[feat_name].data\n",
    "    detect_out_name = 'detection_out'\n",
    "    bbox_data = net.blobs[detect_out_name].data\n",
    "    bbox = np.empty([bbox_data.shape[2],4],dtype=int)\n",
    "    k=0\n",
    "    for i in arr:\n",
    "        for j in range(0,feat_data.shape[2]):\n",
    "            for k in range(0,feat_data.shape[3]):\n",
    "                feature_file.write(str(feat_data[0,i,j,k]))\n",
    "                feature_file.write(' ')\n",
    "            feature_file.write('\\n')\n",
    "    ret,frame=cap.read()\n",
    "    cnt+=1\n",
    "    if cnt>10:\n",
    "        break\n",
    "\n",
    "feature_file.close()\n"
   ]
  },
  {
   "cell_type": "code",
   "execution_count": null,
   "metadata": {
    "collapsed": true
   },
   "outputs": [],
   "source": []
  }
 ],
 "metadata": {
  "kernelspec": {
   "display_name": "Python 2",
   "language": "python",
   "name": "python2"
  },
  "language_info": {
   "codemirror_mode": {
    "name": "ipython",
    "version": 2
   },
   "file_extension": ".py",
   "mimetype": "text/x-python",
   "name": "python",
   "nbconvert_exporter": "python",
   "pygments_lexer": "ipython2",
   "version": "2.7.12"
  }
 },
 "nbformat": 4,
 "nbformat_minor": 2
}
